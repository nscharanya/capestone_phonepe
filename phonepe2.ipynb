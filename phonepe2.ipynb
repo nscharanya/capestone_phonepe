{
 "cells": [
  {
   "cell_type": "code",
   "execution_count": 3,
   "metadata": {},
   "outputs": [],
   "source": [
    "import psycopg2\n",
    "import pandas as pd\n",
    "import plotly.express as px\n",
    "import requests\n",
    "import json"
   ]
  },
  {
   "cell_type": "code",
   "execution_count": 4,
   "metadata": {},
   "outputs": [],
   "source": [
    "# DataFrame Creation\n",
    "\n",
    "mydb = psycopg2.connect(host = \"localhost\",\n",
    "                                user = \"postgres\",\n",
    "                                password = \"Charanya@09\",\n",
    "                                database = \"phonepe_data\",\n",
    "                                port = 5432\n",
    "                                )\n",
    "cursor = mydb.cursor()\n",
    "\n",
    "# aggregated_insurance_df\n",
    "cursor.execute(\"select* from aggregated_insurance\")\n",
    "mydb.commit()\n",
    "table1 = cursor.fetchall()\n",
    "\n",
    "Aggregated_insurance = pd.DataFrame(table1, columns = (\"States\",\"Years\",\"Quarters\",\"Transaction_type\",\"Transaction_count\",\"Transaction_amount\"))\n",
    "\n",
    "# aggregated_transaction_df\n",
    "cursor.execute(\"select* from aggregated_transaction\")\n",
    "mydb.commit()\n",
    "table2 = cursor.fetchall()\n",
    "\n",
    "Aggregated_transaction = pd.DataFrame(table2, columns = (\"States\",\"Years\",\"Quarters\",\"Transaction_type\",\"Transaction_count\",\"Transaction_amount\"))\n",
    "\n",
    "# aggregated_user_df\n",
    "cursor.execute(\"select* from aggregated_user\")\n",
    "mydb.commit()\n",
    "table3 = cursor.fetchall()\n",
    "\n",
    "Aggregated_user = pd.DataFrame(table3, columns = (\"States\",\"Years\",\"Quarters\",\"Brands\",\"Transaction_count\",\"Percentage\"))\n",
    "\n",
    "# map_insurance_df\n",
    "cursor.execute(\"select* from map_insurance\")\n",
    "mydb.commit()\n",
    "table4 = cursor.fetchall()\n",
    "\n",
    "Map_insurance = pd.DataFrame(table4, columns = (\"States\",\"Years\",\"Quarters\",\"Districts\",\"Transaction_count\",\"Transaction_amount\"))\n",
    "\n",
    "# map_transaction_df\n",
    "cursor.execute(\"select* from map_transaction\")\n",
    "mydb.commit()\n",
    "table5 = cursor.fetchall()\n",
    "\n",
    "Map_transaction = pd.DataFrame(table5, columns = (\"States\",\"Years\",\"Quarters\",\"Districts\",\"Transaction_count\",\"Transaction_amount\"))\n",
    "\n",
    "# map_user_df\n",
    "cursor.execute(\"select* from map_user\")\n",
    "mydb.commit()\n",
    "table6 = cursor.fetchall()\n",
    "\n",
    "Map_user = pd.DataFrame(table6, columns = (\"States\",\"Years\",\"Quarters\",\"Districts\",\"RegisteredUsers\",\"AppOpens\"))\n",
    "\n",
    "# top_insurance_df\n",
    "cursor.execute(\"select* from top_insurance\")\n",
    "mydb.commit()\n",
    "table7 = cursor.fetchall()\n",
    "\n",
    "Top_insurance = pd.DataFrame(table7, columns = (\"States\",\"Years\",\"Quarters\",\"Pincodes\",\"Transaction_count\",\"Transaction_amount\"))\n",
    "\n",
    "# top_transaction_df\n",
    "cursor.execute(\"select* from top_transaction\")\n",
    "mydb.commit()\n",
    "table8 = cursor.fetchall()\n",
    "\n",
    "Top_transaction = pd.DataFrame(table8, columns = (\"States\",\"Years\",\"Quarters\",\"Pincodes\",\"Transaction_count\",\"Transaction_amount\"))\n",
    "\n",
    "# top_user_df\n",
    "cursor.execute(\"select* from top_user\")\n",
    "mydb.commit()\n",
    "table9 = cursor.fetchall()\n",
    "\n",
    "Top_user = pd.DataFrame(table9, columns = (\"States\",\"Years\",\"Quarters\",\"Pincodes\",\"RegisteredUsers\"))\n",
    "\n"
   ]
  },
  {
   "cell_type": "code",
   "execution_count": 5,
   "metadata": {},
   "outputs": [],
   "source": [
    "def top_chart_transaction_amount(table_name):\n",
    "    mydb = psycopg2.connect(host = \"localhost\",\n",
    "                                    user = \"postgres\",\n",
    "                                    password = \"Charanya@09\",\n",
    "                                    database = \"phonepe_data\",\n",
    "                                    port = 5432\n",
    "                                    )\n",
    "    cursor = mydb.cursor()\n",
    "    # plot_1\n",
    "    query1 = f'''select states, sum(transaction_amount) as transaction_amount\n",
    "    from {table_name}\n",
    "    group by states\n",
    "    order by transaction_amount desc\n",
    "    limit 10;\n",
    "    '''\n",
    "    cursor.execute(query1)\n",
    "    table_1 = cursor.fetchall()\n",
    "    mydb.commit()\n",
    "    df_1 = pd.DataFrame(table_1, columns = (\"states\",\"transaction_amount\"))\n",
    "    fig_amount_1 = px.bar(df_1, x = \"states\",y = \"transaction_amount\", title = \"TRANSACTION AMOUNT\", hover_name = \"states\",\n",
    "                            color_discrete_sequence = px.colors.sequential.Cividis, height = 650, width = 600)\n",
    "    fig_amount_1.show()\n",
    "\n",
    "    # plot_2\n",
    "\n",
    "    query2 = f'''select states, sum(transaction_amount) as transaction_amount\n",
    "    from {table_name}\n",
    "    group by states\n",
    "    order by transaction_amount \n",
    "    limit 10;\n",
    "    '''\n",
    "    cursor.execute(query2)\n",
    "    table_2 = cursor.fetchall()\n",
    "    mydb.commit()\n",
    "    df_2 = pd.DataFrame(table_2, columns = (\"states\",\"transaction_amount\"))\n",
    "    fig_amount_2 = px.bar(df_2, x = \"states\",y = \"transaction_amount\", title = \"TRANSACTION AMOUNT\", hover_name = \"states\",\n",
    "                            color_discrete_sequence = px.colors.sequential.Cividis_r, height = 650, width = 600)\n",
    "    fig_amount_2.show()\n",
    "\n",
    "    # plot_3\n",
    "\n",
    "    query3 = f'''select states, avg(transaction_amount) as transaction_amount\n",
    "    from {table_name}\n",
    "    group by states\n",
    "    order by transaction_amount ;\n",
    "    '''\n",
    "    cursor.execute(query3)\n",
    "    table_3 = cursor.fetchall()\n",
    "    mydb.commit()\n",
    "    df_3 = pd.DataFrame(table_3, columns = (\"states\",\"transaction_amount\"))\n",
    "    fig_amount_3 = px.bar(df_3, y = \"states\", x = \"transaction_amount\", title = \"TRANSACTION AMOUNT\", hover_name = \"states\", orientation = \"h\",\n",
    "                            color_discrete_sequence = px.colors.sequential.Bluyl_r, height = 800, width = 1000)\n",
    "    fig_amount_3.show()\n"
   ]
  },
  {
   "cell_type": "code",
   "execution_count": null,
   "metadata": {},
   "outputs": [],
   "source": [
    "top_chart_transaction_amount(\"Aggregated_insurance\")"
   ]
  },
  {
   "cell_type": "code",
   "execution_count": 7,
   "metadata": {},
   "outputs": [],
   "source": [
    "def top_chart_transaction_count(table_name):\n",
    "    mydb = psycopg2.connect(host = \"localhost\",\n",
    "                                    user = \"postgres\",\n",
    "                                    password = \"Charanya@09\",\n",
    "                                    database = \"phonepe_data\",\n",
    "                                    port = 5432\n",
    "                                    )\n",
    "    cursor = mydb.cursor()\n",
    "    # plot_1\n",
    "    query1 = f'''select states, sum(transaction_count) as transaction_count\n",
    "    from {table_name}\n",
    "    group by states\n",
    "    order by transaction_count desc\n",
    "    limit 10;\n",
    "    '''\n",
    "    cursor.execute(query1)\n",
    "    table_1 = cursor.fetchall()\n",
    "    mydb.commit()\n",
    "    df_1 = pd.DataFrame(table_1, columns = (\"states\",\"transaction_count\"))\n",
    "    fig_amount_1 = px.bar(df_1, x = \"states\",y = \"transaction_count\", title = \"TRANSACTION COUNT\", hover_name = \"states\",\n",
    "                            color_discrete_sequence = px.colors.sequential.Cividis, height = 650, width = 600)\n",
    "    fig_amount_1.show()\n",
    "\n",
    "    # plot_2\n",
    "\n",
    "    query2 = f'''select states, sum(transaction_count) as transaction_count\n",
    "    from {table_name}\n",
    "    group by states\n",
    "    order by transaction_count \n",
    "    limit 10;\n",
    "    '''\n",
    "    cursor.execute(query2)\n",
    "    table_2 = cursor.fetchall()\n",
    "    mydb.commit()\n",
    "    df_2 = pd.DataFrame(table_2, columns = (\"states\",\"transaction_count\"))\n",
    "    fig_amount_2 = px.bar(df_2, x = \"states\",y = \"transaction_count\", title = \"TRANSACTION COUNT\", hover_name = \"states\",\n",
    "                            color_discrete_sequence = px.colors.sequential.Cividis_r, height = 650, width = 600)\n",
    "    fig_amount_2.show()\n",
    "\n",
    "    # plot_3\n",
    "\n",
    "    query3 = f'''select states, avg(transaction_count) as transaction_count\n",
    "    from {table_name}\n",
    "    group by states\n",
    "    order by transaction_count ;\n",
    "    '''\n",
    "    cursor.execute(query3)\n",
    "    table_3 = cursor.fetchall()\n",
    "    mydb.commit()\n",
    "    df_3 = pd.DataFrame(table_3, columns = (\"states\",\"transaction_count\"))\n",
    "    fig_amount_3 = px.bar(df_3, y = \"states\", x = \"transaction_count\", title = \"TRANSACTION COUNT\", hover_name = \"states\", orientation = \"h\",\n",
    "                            color_discrete_sequence = px.colors.sequential.Bluyl_r, height = 800, width = 1000)\n",
    "    fig_amount_3.show()\n",
    "\n"
   ]
  },
  {
   "cell_type": "code",
   "execution_count": null,
   "metadata": {},
   "outputs": [],
   "source": [
    "top_chart_transaction_count(\"Aggregated_insurance\")"
   ]
  },
  {
   "cell_type": "code",
   "execution_count": 9,
   "metadata": {},
   "outputs": [],
   "source": [
    "def top_chart_registered_user(table_name, state):\n",
    "    mydb = psycopg2.connect(host = \"localhost\",\n",
    "                                    user = \"postgres\",\n",
    "                                    password = \"Charanya@09\",\n",
    "                                    database = \"phonepe_data\",\n",
    "                                    port = 5432\n",
    "                                    )\n",
    "    cursor = mydb.cursor()\n",
    "    # plot_1\n",
    "    query1 = f'''select districts, sum(registeredusers) as registered_user\n",
    "                 from {table_name}\n",
    "                 where states = '{state}'\n",
    "                 group by districts\n",
    "                 order by registered_user desc\n",
    "                 limit 10; '''\n",
    "    cursor.execute(query1)\n",
    "    table_1 = cursor.fetchall()\n",
    "    mydb.commit()\n",
    "    df_1 = pd.DataFrame(table_1, columns = (\"districts\",\"registeredusers\"))\n",
    "    fig_amount_1 = px.bar(df_1, x = \"districts\",y = \"registeredusers\", title = \"TOP 10 REGISTERED USERS\", hover_name = \"districts\",\n",
    "                            color_discrete_sequence = px.colors.sequential.Cividis, height = 650, width = 600)\n",
    "    fig_amount_1.show()\n",
    "\n",
    "    # plot_2\n",
    "\n",
    "    query2 = f'''select districts, sum(registeredusers) as registered_user\n",
    "                 from {table_name}\n",
    "                 where states = '{state}'\n",
    "                 group by districts\n",
    "                 order by registered_user \n",
    "                 limit 10; '''\n",
    "    cursor.execute(query2)\n",
    "    table_2 = cursor.fetchall()\n",
    "    mydb.commit()\n",
    "    df_2 = pd.DataFrame(table_2, columns = (\"districts\",\"registeredusers\"))\n",
    "    fig_amount_2 = px.bar(df_2, x = \"districts\",y = \"registeredusers\", title = \"LAST 10 REGISTERED USERS\", hover_name = \"districts\",\n",
    "                            color_discrete_sequence = px.colors.sequential.Cividis_r, height = 650, width = 600)\n",
    "    fig_amount_2.show()\n",
    "\n",
    "    # plot_3\n",
    "\n",
    "    query3 = f'''select districts, avg(registeredusers) as registered_user\n",
    "                 from {table_name}\n",
    "                 where states = '{state}'\n",
    "                 group by districts\n",
    "                 order by registered_user; '''\n",
    "    cursor.execute(query3)\n",
    "    table_3 = cursor.fetchall()\n",
    "    mydb.commit()\n",
    "    df_3 = pd.DataFrame(table_3, columns = (\"districts\",\"registeredusers\"))\n",
    "    fig_amount_3 = px.bar(df_3, y = \"districts\", x = \"registeredusers\", title = \"AVERAGE OF REGISTERED USERS\", hover_name = \"districts\", orientation = \"h\",\n",
    "                            color_discrete_sequence = px.colors.sequential.Bluyl_r, height = 800, width = 1000)\n",
    "    fig_amount_3.show()\n"
   ]
  },
  {
   "cell_type": "code",
   "execution_count": 10,
   "metadata": {},
   "outputs": [],
   "source": [
    "def top_chart_app_opens(table_name, state):\n",
    "    mydb = psycopg2.connect(host = \"localhost\",\n",
    "                                    user = \"postgres\",\n",
    "                                    password = \"Charanya@09\",\n",
    "                                    database = \"phonepe_data\",\n",
    "                                    port = 5432\n",
    "                                    )\n",
    "    cursor = mydb.cursor()\n",
    "    # plot_1\n",
    "    query1 = f'''select districts, sum(appopens) as appopens\n",
    "                 from {table_name}\n",
    "                 where states = '{state}'\n",
    "                 group by districts\n",
    "                 order by appopens desc\n",
    "                 limit 10; '''\n",
    "    cursor.execute(query1)\n",
    "    table_1 = cursor.fetchall()\n",
    "    mydb.commit()\n",
    "    df_1 = pd.DataFrame(table_1, columns = (\"districts\",\"appopens\"))\n",
    "    fig_amount_1 = px.bar(df_1, x = \"districts\",y = \"appopens\", title = \"TOP 10 APP OPENS\", hover_name = \"districts\",\n",
    "                            color_discrete_sequence = px.colors.sequential.Cividis, height = 650, width = 600)\n",
    "    fig_amount_1.show()\n",
    "\n",
    "    # plot_2\n",
    "\n",
    "    query2 = f'''select districts, sum(appopens) as appopens\n",
    "                 from {table_name}\n",
    "                 where states = '{state}'\n",
    "                 group by districts\n",
    "                 order by appopens \n",
    "                 limit 10; '''\n",
    "    cursor.execute(query2)\n",
    "    table_2 = cursor.fetchall()\n",
    "    mydb.commit()\n",
    "    df_2 = pd.DataFrame(table_2, columns = (\"districts\",\"appopens\"))\n",
    "    fig_amount_2 = px.bar(df_2, x = \"districts\",y = \"appopens\", title = \"LAST 10 APP OPENS\", hover_name = \"districts\",\n",
    "                            color_discrete_sequence = px.colors.sequential.Cividis_r, height = 650, width = 600)\n",
    "    fig_amount_2.show()\n",
    "\n",
    "    # plot_3\n",
    "\n",
    "    query3 = f'''select districts, avg(appopens) as appopens\n",
    "                 from {table_name}\n",
    "                 where states = '{state}'\n",
    "                 group by districts\n",
    "                 order by appopens; '''\n",
    "    cursor.execute(query3)\n",
    "    table_3 = cursor.fetchall()\n",
    "    mydb.commit()\n",
    "    df_3 = pd.DataFrame(table_3, columns = (\"districts\",\"appopens\"))\n",
    "    fig_amount_3 = px.bar(df_3, y = \"districts\", x = \"appopens\", title = \"AVERAGE OF APP OPENS\", hover_name = \"districts\", orientation = \"h\",\n",
    "                            color_discrete_sequence = px.colors.sequential.Bluyl_r, height = 800, width = 1000)\n",
    "    fig_amount_3.show()\n"
   ]
  },
  {
   "cell_type": "code",
   "execution_count": 11,
   "metadata": {},
   "outputs": [],
   "source": [
    "def top_chart_registered_users(table_name):\n",
    "    mydb = psycopg2.connect(host = \"localhost\",\n",
    "                                    user = \"postgres\",\n",
    "                                    password = \"Charanya@09\",\n",
    "                                    database = \"phonepe_data\",\n",
    "                                    port = 5432\n",
    "                                    )\n",
    "    cursor = mydb.cursor()\n",
    "    # plot_1\n",
    "    query1 = f'''select states, sum(registeredusers) as registered_users\n",
    "                 from {table_name}\n",
    "                 group by states\n",
    "                 order by registered_users desc\n",
    "                 limit 10; '''\n",
    "    cursor.execute(query1)\n",
    "    table_1 = cursor.fetchall()\n",
    "    mydb.commit()\n",
    "    df_1 = pd.DataFrame(table_1, columns = (\"states\",\"registeredusers\"))\n",
    "    fig_amount_1 = px.bar(df_1, x = \"states\",y = \"registeredusers\", title = \"TOP 10 OF REGISTERED USERS\", hover_name = \"states\",\n",
    "                            color_discrete_sequence = px.colors.sequential.Cividis, height = 650, width = 600)\n",
    "    fig_amount_1.show()\n",
    "\n",
    "    # plot_2\n",
    "\n",
    "    query2 = f'''select states, sum(registeredusers) as registered_users\n",
    "                 from {table_name}\n",
    "                 group by states\n",
    "                 order by registered_users\n",
    "                 limit 10; '''\n",
    "    cursor.execute(query2)\n",
    "    table_2 = cursor.fetchall()\n",
    "    mydb.commit()\n",
    "    df_2 = pd.DataFrame(table_2, columns = (\"states\",\"registeredusers\"))\n",
    "    fig_amount_2 = px.bar(df_2, x = \"states\",y = \"registeredusers\", title = \"LAST 10 OF REGISTERED USERS\", hover_name = \"states\",\n",
    "                            color_discrete_sequence = px.colors.sequential.Cividis_r, height = 650, width = 600)\n",
    "    fig_amount_2.show()\n",
    "\n",
    "    # plot_3\n",
    "\n",
    "    query3 = f'''select states, avg(registeredusers) as registered_users\n",
    "                 from {table_name}\n",
    "                 group by states\n",
    "                 order by registered_users; '''\n",
    "    cursor.execute(query3)\n",
    "    table_3 = cursor.fetchall()\n",
    "    mydb.commit()\n",
    "    df_3 = pd.DataFrame(table_3, columns = (\"states\",\"registeredusers\"))\n",
    "    fig_amount_3 = px.bar(df_3, y = \"states\", x = \"registeredusers\", title = \"AVERAGE OF REGISTERED USERS\", hover_name = \"states\", orientation = \"h\",\n",
    "                            color_discrete_sequence = px.colors.sequential.Bluyl_r, height = 800, width = 1000)\n",
    "    fig_amount_3.show()\n"
   ]
  },
  {
   "cell_type": "code",
   "execution_count": null,
   "metadata": {},
   "outputs": [],
   "source": [
    "top_chart_registered_users(\"Top_user\")"
   ]
  },
  {
   "cell_type": "code",
   "execution_count": null,
   "metadata": {},
   "outputs": [],
   "source": [
    "top_chart_registered_user(\"Map_user\", \"Tamil Nadu\")"
   ]
  },
  {
   "cell_type": "code",
   "execution_count": 14,
   "metadata": {},
   "outputs": [],
   "source": [
    "# Aggregated (insurance, transaction)  data and visualisations based on user_input of year\n",
    "def Aggre_tran_co_am_ye(df, year):\n",
    "    tramcoye = df[df[\"Years\"] == year]  # Returns a new df where year = 2021\n",
    "    tramcoye.reset_index(drop = True, inplace = True)       # Drops old index and Resets index for this particular df\n",
    "    tramcoyegr = tramcoye.groupby(\"States\")[[\"Transaction_count\", \"Transaction_amount\"]].sum()  # Returns sum of Transaction_count for each state\n",
    "    tramcoyegr.reset_index(inplace = True)\n",
    "    \n",
    "    # Creates a bar chart for states and their corresponding transaction_amount\n",
    "    fig_amount = px.bar(tramcoyegr, x = \"States\",y = \"Transaction_amount\", title = f\"{year} TRANSACTION AMOUNT\",\n",
    "                        color_discrete_sequence = px.colors.sequential.Cividis, height = 650, width = 600)\n",
    "    fig_amount.show()\n",
    "    # Creates a bar chart for states and their corresponding transaction_count\n",
    "    fig_count = px.bar(tramcoyegr, x = \"States\",y = \"Transaction_count\", title = f\"{year} TRANSACTION COUNT\",\n",
    "                        color_discrete_sequence = px.colors.sequential.Rainbow, height = 650, width = 600)\n",
    "    fig_count.show()\n",
    "    # retrieves state names from GeoJSON data and sorts them alphabetically\n",
    "    url = \"https://gist.githubusercontent.com/jbrobst/56c13bbbf9d97d187fea01ca62ea5112/raw/e388c4cae20aa53cb5090210a42ebb9b765c0a36/india_states.geojson\"\n",
    "    response = requests.get(url)\n",
    "    data1 = json.loads(response.content)\n",
    "    state_names = []\n",
    "    for feature in data1[\"features\"]:\n",
    "        state_names.append((feature['properties']['ST_NM']))\n",
    "\n",
    "    state_names.sort()\n",
    "    # creates an interactive choropleth map to visualize the transaction amounts across various states for a given year.\n",
    "    fig_india_1 = px.choropleth(tramcoyegr, geojson=data1, locations=\"States\", featureidkey=\"properties.ST_NM\",\n",
    "                                color = \"Transaction_amount\", color_continuous_scale = \"Spectral\",\n",
    "                                range_color = (tramcoyegr[\"Transaction_amount\"].min(), tramcoyegr[\"Transaction_amount\"].max()), # Based upon the values present in the dataframe the color range varies\n",
    "                                hover_name = \"States\", title = f\"{year} TRANSACTION AMOUNT\", fitbounds = \"locations\",\n",
    "                                height = 650, width = 600)\n",
    "    fig_india_1.update_geos(visible = False)  # to remove background world lines present around india\n",
    "    fig_india_1.show()\n",
    "    # creates an interactive choropleth map to visualize the transaction counts across various states for a given year.\n",
    "    fig_india_2 = px.choropleth(tramcoyegr, geojson=data1, locations=\"States\", featureidkey=\"properties.ST_NM\",\n",
    "                                color = \"Transaction_count\", color_continuous_scale = \"Spectral\",\n",
    "                                range_color = (tramcoyegr[\"Transaction_count\"].min(), tramcoyegr[\"Transaction_count\"].max()), # Based upon the values present in the dataframe the color range varies\n",
    "                                hover_name = \"States\", title = f\"{year} TRANSACTION COUNT\", fitbounds = \"locations\",\n",
    "                                height = 650, width = 600)\n",
    "    fig_india_2.update_geos(visible = False)  # to remove background world lines present around india\n",
    "    fig_india_2.show()\n",
    "    return tramcoye # returns the dataframe"
   ]
  },
  {
   "cell_type": "code",
   "execution_count": 15,
   "metadata": {},
   "outputs": [],
   "source": [
    "# Aggregated_insurance data and visualizations based on States(Quarters)\n",
    "def Aggre_tran_co_am_ye_quar(df, quarter):\n",
    "    tramcoye = df[df[\"Quarters\"] == quarter]  # Returns a new df where year = 2021\n",
    "    tramcoye.reset_index(drop = True, inplace = True)       # Drops old index and Resets index for this particular df\n",
    "    tramcoyegr = tramcoye.groupby(\"States\")[[\"Transaction_count\", \"Transaction_amount\"]].sum()  # Returns sum of Transaction_count for each state\n",
    "    tramcoyegr.reset_index(inplace = True)\n",
    "\n",
    "    fig_amount = px.bar(tramcoyegr, x = \"States\",y = \"Transaction_amount\", title = f\"{tramcoye['Years'].min()} Year, Quarter- {quarter} TRANSACTION AMOUNT\",\n",
    "                        color_discrete_sequence = px.colors.sequential.Cividis)\n",
    "    fig_amount.show()\n",
    "\n",
    "    fig_count = px.bar(tramcoyegr, x = \"States\",y = \"Transaction_count\", title = f\"{tramcoye['Years'].min()} Year, Quarter- {quarter}  TRANSACTION COUNT\",\n",
    "                        color_discrete_sequence = px.colors.sequential.Rainbow)\n",
    "    fig_count.show()\n",
    "\n",
    "    url = \"https://gist.githubusercontent.com/jbrobst/56c13bbbf9d97d187fea01ca62ea5112/raw/e388c4cae20aa53cb5090210a42ebb9b765c0a36/india_states.geojson\"\n",
    "    response = requests.get(url)\n",
    "    data1 = json.loads(response.content)\n",
    "    state_names = []\n",
    "    for feature in data1[\"features\"]:\n",
    "        state_names.append((feature['properties']['ST_NM']))\n",
    "\n",
    "    state_names.sort()\n",
    "\n",
    "    fig_india_1 = px.choropleth(tramcoyegr, geojson=data1, locations=\"States\", featureidkey=\"properties.ST_NM\",\n",
    "                                color = \"Transaction_amount\", color_continuous_scale = \"Spectral\",\n",
    "                                range_color = (tramcoyegr[\"Transaction_amount\"].min(), tramcoyegr[\"Transaction_amount\"].max()), # Based upon the values present in the dataframe the color range varies\n",
    "                                hover_name = \"States\", title = f\"{tramcoye['Years'].min()} Year, Quarter- {quarter} TRANSACTION AMOUNT\", fitbounds = \"locations\",\n",
    "                                height = 650, width = 600)\n",
    "    fig_india_1.update_geos(visible = False)  # to remove background world lines present around india\n",
    "    fig_india_1.show()\n",
    "\n",
    "    fig_india_2 = px.choropleth(tramcoyegr, geojson=data1, locations=\"States\", featureidkey=\"properties.ST_NM\",\n",
    "                                color = \"Transaction_count\", color_continuous_scale = \"Spectral\",\n",
    "                                range_color = (tramcoyegr[\"Transaction_count\"].min(), tramcoyegr[\"Transaction_count\"].max()), # Based upon the values present in the dataframe the color range varies\n",
    "                                hover_name = \"States\", title = f\"{tramcoye['Years'].min()} Year, Quarter- {quarter} TRANSACTION COUNT\", fitbounds = \"locations\",\n",
    "                                height = 650, width = 600)\n",
    "    fig_india_2.update_geos(visible = False)  # to remove background world lines present around india\n",
    "    fig_india_2.show()\n",
    "    return tramcoye"
   ]
  },
  {
   "cell_type": "code",
   "execution_count": 16,
   "metadata": {},
   "outputs": [],
   "source": [
    "# Aggregated_transaction data and visualizations based on States \n",
    "def Aggre_transaction_tran_co_am_ye_st(df, state):\n",
    "    tramcoye = df[df[\"States\"] == state]  \n",
    "    tramcoye.reset_index(drop = True, inplace = True) \n",
    "    tramcoyegr = tramcoye.groupby(\"Transaction_type\")[[\"Transaction_count\", \"Transaction_amount\"]].sum()  \n",
    "    tramcoyegr.reset_index(inplace = True)\n",
    "    fig_pie_1 = px.pie(data_frame = tramcoyegr, title = f\"TRANSACTION AMOUNT OF {state.upper()}\",\n",
    "                    names = \"Transaction_type\", values = \"Transaction_amount\", width = 600, \n",
    "                    hole = 0.5, color='Transaction_type',    # hole = 0.5 (50% of the complete radius will be the hole)\n",
    "                    color_discrete_map={\"Financial Services\": \"blue\", \"Merchant payments\": \"orange\", \"Others\": \"red\", \"Peer-to-peer payments\": \"green\", \"Recharge & bill payments\": \"yellow\"})\n",
    "    fig_pie_1.show()\n",
    "    fig_pie_2 = px.pie(data_frame = tramcoyegr, title = f\"TRANSACTION COUNT OF {state.upper()}\",\n",
    "                    names = \"Transaction_type\", values = \"Transaction_count\", width = 600, \n",
    "                    hole = 0.5,color='Transaction_type',    # hole = 0.5 (50% of the complete radius will be the hole)\n",
    "                    color_discrete_map={\"Financial Services\": \"blue\", \"Merchant payments\": \"orange\", \"Others\": \"red\", \"Peer-to-peer payments\": \"green\", \"Recharge & bill payments\": \"yellow\"})\n",
    "    fig_pie_2.show()"
   ]
  },
  {
   "cell_type": "code",
   "execution_count": 17,
   "metadata": {},
   "outputs": [],
   "source": [
    "# Aggregated_user data and visualizations based on Brands (Years)\n",
    "def Aggre_user_br_tran_count_ye(df, year):\n",
    "    aggusye = df[df[\"Years\"]== year]\n",
    "    aggusye.reset_index(drop = True, inplace = True) \n",
    "\n",
    "    aggusyegr = pd.DataFrame(aggusye.groupby(\"Brands\")[\"Transaction_count\"].sum()) # grouping Transaction_count and Percentage based on Brands\n",
    "    aggusyegr.reset_index(inplace = True) \n",
    "\n",
    "    fig_bar_1 = px.bar(aggusyegr, x = \"Brands\", y = \"Transaction_count\", title = \"TRANSACTION COUNT BASED ON BRANDS\",\n",
    "                    width = 1000, color_discrete_sequence = px.colors.sequential.Turbo)\n",
    "    fig_bar_1.show()\n",
    "\n",
    "    return aggusye"
   ]
  },
  {
   "cell_type": "code",
   "execution_count": 18,
   "metadata": {},
   "outputs": [],
   "source": [
    "# Aggregated_user data and visualizations based on Brands (Quarters)\n",
    "def Aggre_user_br_tran_count_ye_qu(df, quarter):\n",
    "    aggusyequ = df[df[\"Quarters\"]== quarter]\n",
    "    aggusyequ.reset_index(drop = True, inplace = True) \n",
    "\n",
    "    aggusyequgr = pd.DataFrame(aggusyequ.groupby(\"Brands\")[\"Transaction_count\"].sum())\n",
    "    aggusyequgr.reset_index(inplace = True)\n",
    "\n",
    "    fig_bar_1 = px.bar(aggusyequgr, x = \"Brands\", y = \"Transaction_count\", title = f\"TRANSACTION COUNT BASED ON BRANDS OF QUARTER-{quarter}\",\n",
    "                        width = 1000, color_discrete_sequence = px.colors.sequential.Turbo)\n",
    "    fig_bar_1.show()\n",
    "    \n",
    "    return aggusyequ"
   ]
  },
  {
   "cell_type": "code",
   "execution_count": 19,
   "metadata": {},
   "outputs": [],
   "source": [
    "# Aggregated_user data and visualizations based on Brands (States)\n",
    "def Aggre_user_br_tran_count_ye_qu_st(df, state):\n",
    "    aggusyequst = df[df[\"States\"] == state]\n",
    "    aggusyequst.reset_index(drop = True, inplace = True)\n",
    "\n",
    "    fig_line_1 = px.line(aggusyequst, x = \"Brands\", y = \"Transaction_count\", hover_data = \"Percentage\",\n",
    "                        title = f\"{state.upper()}'s TRANSACTION COUNT AND PERCENTAGE BASED ON BRANDS\", width = 1000)\n",
    "    fig_line_1.show()"
   ]
  },
  {
   "cell_type": "code",
   "execution_count": 20,
   "metadata": {},
   "outputs": [],
   "source": [
    "# Map_insurance data and visualizations based on Districts \n",
    "def Map_insurance_tran_co_am_ye_st_dist(df, state):\n",
    "    tramcoye = df[df[\"States\"] == state]  \n",
    "    tramcoye.reset_index(drop = True, inplace = True) \n",
    "    tramcoyegr = tramcoye.groupby(\"Districts\")[[\"Transaction_count\", \"Transaction_amount\"]].sum()  \n",
    "    tramcoyegr.reset_index(inplace = True)\n",
    "    fig_bar_1 = px.bar(tramcoyegr, x = \"Transaction_amount\", y = \"Districts\", orientation= \"h\", # h = horizontal \n",
    "                        title = f\" {state.upper()} DISTRICT-WISE TRANSACTION AMOUNT\", color_discrete_sequence= px.colors.sequential.Peach_r)\n",
    "                \n",
    "    fig_bar_1.show()\n",
    "    fig_bar_2 = px.bar(tramcoyegr, x = \"Transaction_count\", y = \"Districts\", orientation= \"h\", # h = horizontal \n",
    "                        title = f\" {state.upper()} DISTRICT-WISE TRANSACTION COUNT\", color_discrete_sequence= px.colors.sequential.Darkmint_r)\n",
    "                    \n",
    "    fig_bar_2.show()"
   ]
  },
  {
   "cell_type": "code",
   "execution_count": 21,
   "metadata": {},
   "outputs": [],
   "source": [
    "# Map_user data and visualizations based on Registered_Users and App_Opens (Year)\n",
    "def map_user_ru_apop_ye_st(df, year):\n",
    "    mapusye = df[df[\"Years\"]== year]\n",
    "    mapusye.reset_index(drop = True, inplace = True) \n",
    "    mapusyegr = pd.DataFrame(mapusye.groupby(\"States\")[[\"RegisteredUsers\",\"AppOpens\"]].sum()) # grouping Transaction_count and Percentage based on Brands\n",
    "    mapusyegr.reset_index(inplace = True) \n",
    "\n",
    "    fig_line_1 = px.line(mapusyegr, x = \"States\", y = [\"RegisteredUsers\", \"AppOpens\"],\n",
    "                        title = f\"REGISTERED_USERS AND APP_OPENS OF YEAR {year}\", width = 850, height = 800, markers = True)\n",
    "    fig_line_1.show()\n",
    "\n",
    "    return mapusye"
   ]
  },
  {
   "cell_type": "code",
   "execution_count": null,
   "metadata": {},
   "outputs": [],
   "source": [
    "Map_usye = map_user_ru_apop_ye_st(Map_user, 2018)"
   ]
  },
  {
   "cell_type": "code",
   "execution_count": 23,
   "metadata": {},
   "outputs": [],
   "source": [
    "# Map_user data and visualizations based on Registered_Users and App_Opens (Quarter)\n",
    "def map_user_ru_apop_ye_qu_st(df, quarter):\n",
    "    mapusyequ = df[df[\"Quarters\"]== quarter]\n",
    "    mapusyequ.reset_index(drop = True, inplace = True) \n",
    "    mapusyequgr = pd.DataFrame(mapusyequ.groupby(\"States\")[[\"RegisteredUsers\",\"AppOpens\"]].sum()) # grouping Transaction_count and Percentage based on Brands\n",
    "    mapusyequgr.reset_index(inplace = True) \n",
    "\n",
    "    fig_line_1 = px.line(mapusyequgr, x = \"States\", y = [\"RegisteredUsers\", \"AppOpens\"],\n",
    "                        title = f\"REGISTERED_USERS AND APP_OPENS OF {df['Years'].min()} - QUARTER {quarter}\", width = 850, height = 800, markers = True,\n",
    "                        color_discrete_sequence = px.colors.sequential.Rainbow)\n",
    "    fig_line_1.show()\n",
    "\n",
    "    return mapusyequ"
   ]
  },
  {
   "cell_type": "code",
   "execution_count": null,
   "metadata": {},
   "outputs": [],
   "source": [
    "Map_usyequ = map_user_ru_apop_ye_qu_st(Map_usye, 3)"
   ]
  },
  {
   "cell_type": "code",
   "execution_count": null,
   "metadata": {},
   "outputs": [],
   "source": [
    "# Map_user data and visualizations based on Registered_Users and App_Opens (States)\n",
    "def map_user_ru_apop_st(df, state):\n",
    "    Map_usyequst = Map_usyequ[Map_usyequ[\"States\"]== \"Andaman & Nicobar\"]\n",
    "    Map_usyequst.reset_index(drop = True, inplace = True) \n",
    "    \n",
    "    fig_map_user_bar_1 = px.bar(Map_usyequst, x = \"RegisteredUsers\", y = \"Districts\", orientation = \"h\",\n",
    "                                title = \"REGISTERED_USERS BASED ON DISTRICTS\", height = 800, \n",
    "                                color_discrete_sequence = px.colors.sequential.GnBu_r)\n",
    "    fig_map_user_bar_1.show()\n",
    "\n",
    "    fig_map_user_bar_2 = px.bar(Map_usyequst, x = \"AppOpens\", y = \"Districts\", orientation = \"h\",\n",
    "                                title = \"APP_OPENS BASED ON DISTRICTS\", height = 800, \n",
    "                                color_discrete_sequence = px.colors.sequential.Redor_r)\n",
    "    fig_map_user_bar_2.show()\n"
   ]
  },
  {
   "cell_type": "code",
   "execution_count": null,
   "metadata": {},
   "outputs": [],
   "source": [
    "map_user_ru_apop_st(Map_usyequ, \"Andaman & Nicobar\")"
   ]
  },
  {
   "cell_type": "code",
   "execution_count": 13,
   "metadata": {},
   "outputs": [],
   "source": [
    "# Transaction_insurance data and visualizations based on Transaction_amount, Quarters & Pincodes (States)\n",
    "def top_insu_pintramyequst(df, states):\n",
    "    Topinsu_yest = df[df[\"States\"]== states]\n",
    "    Topinsu_yest.reset_index(drop = True, inplace = True) \n",
    "\n",
    "    fig_top_insu_bar_1 = px.bar(Topinsu_yest, x = \"Quarters\", y = \"Transaction_amount\", hover_data = \"Pincodes\",\n",
    "                                title = \"TRANSACTION AMOUNT BASED ON PINCODES\", height = 800,\n",
    "                                color_discrete_sequence = px.colors.sequential.Oranges)\n",
    "    fig_top_insu_bar_1.show()\n",
    "\n",
    "    fig_top_insu_bar_2 = px.bar(Topinsu_yest, x = \"Quarters\", y = \"Transaction_count\", hover_data = \"Pincodes\",\n",
    "                                title = \"TRANSACTION COUNT BASED ON PINCODES\", height = 800,\n",
    "                                color_discrete_sequence = px.colors.sequential.Sunset)\n",
    "    fig_top_insu_bar_2.show()\n"
   ]
  },
  {
   "cell_type": "code",
   "execution_count": 43,
   "metadata": {},
   "outputs": [],
   "source": [
    "# Top_user data and visualizations based on Registered_users and zyears \n",
    "def top_user_ru_ye (df, year):\n",
    "    topusye = df[df[\"Years\"]== year]\n",
    "    topusye.reset_index(drop = True, inplace = True) \n",
    "\n",
    "    topusyegr = pd.DataFrame(topusye.groupby([\"States\", \"Quarters\"])[\"RegisteredUsers\"].sum()) # grouping Transaction_count and Percentage based on Brands\n",
    "    topusyegr.reset_index(inplace = True) \n",
    "\n",
    "    fig_top_bar_plot_1 = px.bar(topusyegr, x = \"States\", y = \"RegisteredUsers\", width = 1000, height = 800,\n",
    "                                color = \"Quarters\", color_discrete_sequence = px.colors.sequential.Brwnyl,\n",
    "                                hover_name = \"States\", title = f\"{year} REGISTERED USERS BASED ON STATES\")\n",
    "    fig_top_bar_plot_1.show()\n",
    "\n",
    "    return topusye"
   ]
  },
  {
   "cell_type": "code",
   "execution_count": 71,
   "metadata": {},
   "outputs": [],
   "source": [
    "# Top_user data and visualizations based on Registered_users and  States \n",
    "def top_user_ru_ye_st (df, states):\n",
    "    Topusruyest = df[df[\"States\"]== states]\n",
    "    Topusruyest.reset_index(drop = True, inplace = True) \n",
    "\n",
    "    fig_top_bar_plot_2 = px.bar(Topusruyest, x = \"Quarters\", y = \"RegisteredUsers\", \n",
    "                                title = \"REGISTERED USERS AND PINCODES BASED ON STATES AND QUARTERS\", width = 1000,\n",
    "                                height = 800, hover_data = \"Pincodes\", color=\"RegisteredUsers\", color_continuous_scale=\"magenta\")\n",
    "    fig_top_bar_plot_2.show()"
   ]
  },
  {
   "cell_type": "markdown",
   "metadata": {},
   "source": [
    "#### Aggregated_insurance"
   ]
  },
  {
   "cell_type": "code",
   "execution_count": null,
   "metadata": {},
   "outputs": [],
   "source": [
    "Agg_insu_tramcoye = Aggre_tran_co_am_ye(Aggregated_insurance, 2021)"
   ]
  },
  {
   "cell_type": "code",
   "execution_count": null,
   "metadata": {},
   "outputs": [],
   "source": [
    "Aggre_tran_co_am_ye_quar(Agg_insu_tramcoye, 1)"
   ]
  },
  {
   "cell_type": "markdown",
   "metadata": {},
   "source": [
    "#### Aggregated_transaction"
   ]
  },
  {
   "cell_type": "code",
   "execution_count": null,
   "metadata": {},
   "outputs": [],
   "source": [
    "# Getting dataframe retuned by Aggre_insurance_tran_co_am_ye function and storing it in Agg_tran_tramcoye variable\n",
    "Agg_tran_tramcoye = Aggre_tran_co_am_ye(Aggregated_transaction, 2021)     "
   ]
  },
  {
   "cell_type": "code",
   "execution_count": null,
   "metadata": {},
   "outputs": [],
   "source": [
    "# Passing the returned dataframe and the state\n",
    "Aggre_transaction_tran_co_am_ye_st(Agg_tran_tramcoye, 'Tamil Nadu')"
   ]
  },
  {
   "cell_type": "code",
   "execution_count": null,
   "metadata": {},
   "outputs": [],
   "source": [
    "# Passing the returned dataframe and the quarter\n",
    "Agg_tran_tramcoye_qu = Aggre_tran_co_am_ye_quar(Agg_tran_tramcoye, 3)       "
   ]
  },
  {
   "cell_type": "code",
   "execution_count": null,
   "metadata": {},
   "outputs": [],
   "source": [
    "# Passing the df after filtering quarters into the Aggre_transaction_tran_co_am_ye function\n",
    "Aggre_transaction_tran_co_am_ye_st(Agg_tran_tramcoye_qu, 'Tamil Nadu')"
   ]
  },
  {
   "cell_type": "markdown",
   "metadata": {},
   "source": [
    "#### Aggregated_user"
   ]
  },
  {
   "cell_type": "code",
   "execution_count": null,
   "metadata": {},
   "outputs": [],
   "source": [
    "Agg_user_brtrcoye =  Aggre_user_br_tran_count_ye(Aggregated_user, 2020)"
   ]
  },
  {
   "cell_type": "code",
   "execution_count": null,
   "metadata": {},
   "outputs": [],
   "source": [
    "Agg_user_brtrcoyequ = Aggre_user_br_tran_count_ye_qu(Agg_user_brtrcoye, 3)"
   ]
  },
  {
   "cell_type": "code",
   "execution_count": null,
   "metadata": {},
   "outputs": [],
   "source": [
    "Aggre_user_br_tran_count_ye_qu_st(Agg_user_brtrcoyequ, \"Andaman & Nicobar\")"
   ]
  },
  {
   "cell_type": "markdown",
   "metadata": {},
   "source": [
    "#### Map_insurance"
   ]
  },
  {
   "cell_type": "code",
   "execution_count": null,
   "metadata": {},
   "outputs": [],
   "source": [
    "Map_insu_tramcoye = Aggre_tran_co_am_ye(Map_insurance, 2020)   "
   ]
  },
  {
   "cell_type": "code",
   "execution_count": null,
   "metadata": {},
   "outputs": [],
   "source": [
    "Map_insurance_tran_co_am_ye_st_dist(Map_insu_tramcoye, 'West Bengal')"
   ]
  },
  {
   "cell_type": "code",
   "execution_count": null,
   "metadata": {},
   "outputs": [],
   "source": [
    "Map_insu_tramcoye_qu = Aggre_tran_co_am_ye_quar(Map_insu_tramcoye, 3)  "
   ]
  },
  {
   "cell_type": "code",
   "execution_count": null,
   "metadata": {},
   "outputs": [],
   "source": [
    "Map_insurance_tran_co_am_ye_st_dist(Map_insu_tramcoye_qu, 'Tamil Nadu')"
   ]
  },
  {
   "cell_type": "markdown",
   "metadata": {},
   "source": [
    "#### Map_transaction"
   ]
  },
  {
   "cell_type": "code",
   "execution_count": null,
   "metadata": {},
   "outputs": [],
   "source": [
    "Map_tran_tramcoye = Aggre_tran_co_am_ye(Map_transaction, 2020)   "
   ]
  },
  {
   "cell_type": "code",
   "execution_count": null,
   "metadata": {},
   "outputs": [],
   "source": [
    "Map_insurance_tran_co_am_ye_st_dist(Map_tran_tramcoye, 'West Bengal')"
   ]
  },
  {
   "cell_type": "code",
   "execution_count": null,
   "metadata": {},
   "outputs": [],
   "source": [
    "Map_tran_tramcoye_qu = Aggre_tran_co_am_ye_quar(Map_tran_tramcoye, 3)  "
   ]
  },
  {
   "cell_type": "code",
   "execution_count": null,
   "metadata": {},
   "outputs": [],
   "source": [
    "Map_insurance_tran_co_am_ye_st_dist(Map_tran_tramcoye_qu, 'Tamil Nadu')"
   ]
  },
  {
   "cell_type": "markdown",
   "metadata": {},
   "source": [
    "#### Map_user"
   ]
  },
  {
   "cell_type": "code",
   "execution_count": null,
   "metadata": {},
   "outputs": [],
   "source": [
    "Map_usye = map_user_ru_apop_ye_st(Map_user, 2020)"
   ]
  },
  {
   "cell_type": "code",
   "execution_count": null,
   "metadata": {},
   "outputs": [],
   "source": [
    "Map_usyequ = map_user_ru_apop_ye_qu_st(Map_usye, 3)"
   ]
  },
  {
   "cell_type": "code",
   "execution_count": null,
   "metadata": {},
   "outputs": [],
   "source": [
    "map_user_ru_apop_st(Map_usyequ, \"West Bengal\")"
   ]
  },
  {
   "cell_type": "markdown",
   "metadata": {},
   "source": [
    "#### Top_insurance"
   ]
  },
  {
   "cell_type": "code",
   "execution_count": null,
   "metadata": {},
   "outputs": [],
   "source": [
    "Top_insu_tramcoye = Aggre_tran_co_am_ye(Top_insurance, 2023)   "
   ]
  },
  {
   "cell_type": "code",
   "execution_count": null,
   "metadata": {},
   "outputs": [],
   "source": [
    "top_insu_pintramyequst(Top_insu_tramcoye, \"West Bengal\")"
   ]
  },
  {
   "cell_type": "code",
   "execution_count": null,
   "metadata": {},
   "outputs": [],
   "source": [
    "Top_insu_tramcoye_qu = Aggre_tran_co_am_ye_quar(Top_insu_tramcoye, 3)  "
   ]
  },
  {
   "cell_type": "markdown",
   "metadata": {},
   "source": [
    "#### Top_transaction"
   ]
  },
  {
   "cell_type": "code",
   "execution_count": null,
   "metadata": {},
   "outputs": [],
   "source": [
    "Top_tran_tramcoye = Aggre_tran_co_am_ye(Top_transaction, 2023)   "
   ]
  },
  {
   "cell_type": "code",
   "execution_count": null,
   "metadata": {},
   "outputs": [],
   "source": [
    "top_insu_pintramyequst(Top_tran_tramcoye, \"West Bengal\")"
   ]
  },
  {
   "cell_type": "code",
   "execution_count": null,
   "metadata": {},
   "outputs": [],
   "source": [
    "Top_tran_tramcoye_qu = Aggre_tran_co_am_ye_quar(Top_tran_tramcoye, 3)  "
   ]
  },
  {
   "cell_type": "markdown",
   "metadata": {},
   "source": [
    "#### Top_user"
   ]
  },
  {
   "cell_type": "code",
   "execution_count": null,
   "metadata": {},
   "outputs": [],
   "source": [
    "Top_usyequst  = top_user_ru_ye (Top_user, 2020)"
   ]
  },
  {
   "cell_type": "code",
   "execution_count": null,
   "metadata": {},
   "outputs": [],
   "source": [
    "top_user_ru_ye_st (Top_usyequst, \"Tamil Nadu\")"
   ]
  }
 ],
 "metadata": {
  "kernelspec": {
   "display_name": "Python 3",
   "language": "python",
   "name": "python3"
  },
  "language_info": {
   "codemirror_mode": {
    "name": "ipython",
    "version": 3
   },
   "file_extension": ".py",
   "mimetype": "text/x-python",
   "name": "python",
   "nbconvert_exporter": "python",
   "pygments_lexer": "ipython3",
   "version": "3.11.9"
  }
 },
 "nbformat": 4,
 "nbformat_minor": 2
}
